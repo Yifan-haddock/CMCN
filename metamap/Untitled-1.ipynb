{
 "cells": [
  {
   "cell_type": "code",
   "execution_count": 1,
   "metadata": {},
   "outputs": [],
   "source": [
    "import os\n",
    "import re"
   ]
  },
  {
   "cell_type": "code",
   "execution_count": 2,
   "metadata": {},
   "outputs": [],
   "source": [
    "def metamap_recommend(term, dictionary, topk=10):\n",
    "    semantic_type = 'acab,anab,comd,cgab,dsyn,emod,fndg,inpo,mobd,neop,patf,sosy'\n",
    "    if dictionary == 'disorder_dictionary':\n",
    "        var = os.popen(\"echo \" + term + \" | \" + f'./public_mm/bin/metamap -I -y -Z 2020AB -V Base -c -b -y -J {semantic_type}').read()\n",
    "    elif dictionary == 'icd10_dictionary':\n",
    "        var = os.popen(\"echo \" + term + \" | \" + f'./public_mm/bin/metamap -I -y -Z 2020AB -V Base -c -b -y -R ICD10').read()\n",
    "    else:\n",
    "        var = os.popen(\"echo \" + term + \" | \" + f'./public_mm/bin/metamap -I -y -Z 2020AB -V Base -c -b -y -R HPO').read()\n",
    "\n",
    "    cuis = var.split('\\n')\n",
    "    candidates_cui = []\n",
    "    scores = []\n",
    "    for item in cuis[4:]:\n",
    "        cui = re.search(r'(\\d+).*(C\\d+)', item)\n",
    "        if cui != None:\n",
    "            cui_id = cui.group(2)\n",
    "            score = cui.group(1).strip(' ')\n",
    "            candidates_cui.append(cui_id)\n",
    "            scores.append(float(score))\n",
    "    if len(scores) < 10:\n",
    "        scores.extend([0 for i in range(0,10-len(scores))])\n",
    "        candidates_cui.extend(['null' for i in range(0,10-len(candidates_cui))])\n",
    "    return candidates_cui[:topk], scores[:topk]"
   ]
  },
  {
   "cell_type": "code",
   "execution_count": 3,
   "metadata": {},
   "outputs": [
    {
     "name": "stdout",
     "output_type": "stream",
     "text": [
      "start\n",
      "[1000.0, 1000.0, 907.0, 907.0, 0, 0, 0, 0, 0, 0]\n",
      "['C0022646', 'C0227665', 'C0027697', 'C0027697', 'null', 'null', 'null', 'null', 'null', 'null']\n"
     ]
    }
   ],
   "source": [
    "candidates , scores = metamap_recommend('kidney','disorder_dictionary')\n",
    "print(\"start\")\n",
    "print(scores)\n",
    "print(candidates)"
   ]
  },
  {
   "cell_type": "code",
   "execution_count": 4,
   "metadata": {},
   "outputs": [
    {
     "data": {
      "text/plain": [
       "array([[1000., 1000.,  907.,  907.,    0.,    0.,    0.,    0.,    0.,\n",
       "           0.],\n",
       "       [1000., 1000.,  907.,  907.,    0.,    0.,    0.,    0.,    0.,\n",
       "           0.]])"
      ]
     },
     "execution_count": 4,
     "metadata": {},
     "output_type": "execute_result"
    }
   ],
   "source": [
    "import numpy as np \n",
    "np.stack(np.array([np.array(scores),np.array(scores)]),axis=0)"
   ]
  }
 ],
 "metadata": {
  "interpreter": {
   "hash": "5d9f12e6cabe7f760c2f504e4f64bb9e2f02e404cef515a6d2cb7e950c16ce66"
  },
  "kernelspec": {
   "display_name": "Python 3.8.0 64-bit ('3.8.0': pyenv)",
   "language": "python",
   "name": "python3"
  },
  "language_info": {
   "codemirror_mode": {
    "name": "ipython",
    "version": 3
   },
   "file_extension": ".py",
   "mimetype": "text/x-python",
   "name": "python",
   "nbconvert_exporter": "python",
   "pygments_lexer": "ipython3",
   "version": "3.8.3"
  },
  "orig_nbformat": 4
 },
 "nbformat": 4,
 "nbformat_minor": 2
}
