{
 "cells": [
  {
   "cell_type": "code",
   "execution_count": 1,
   "metadata": {},
   "outputs": [],
   "source": [
    "import numpy as np\n",
    "import re\n",
    "import matplotlib.pyplot as plt\n",
    "import json"
   ]
  },
  {
   "cell_type": "code",
   "execution_count": 2,
   "metadata": {},
   "outputs": [],
   "source": [
    "with open(\"ratios.json\",'r') as f:\n",
    "    ratios = json.load(f)"
   ]
  },
  {
   "cell_type": "code",
   "execution_count": 3,
   "metadata": {},
   "outputs": [
    {
     "name": "stdout",
     "output_type": "stream",
     "text": [
      "7.374161118369119\n",
      "0.7337263284487616\n"
     ]
    }
   ],
   "source": [
    "subtract = np.array([float(a)/float(b) for a, b in ratios])\n",
    "print(subtract.mean())\n",
    "print(subtract.std())"
   ]
  },
  {
   "cell_type": "code",
   "execution_count": 4,
   "metadata": {},
   "outputs": [
    {
     "data": {
      "text/plain": [
       "array([7.63017179, 7.52178746, 6.8298339 , 6.87874496, 9.31266356,\n",
       "       6.56965005, 6.97986341, 6.99541074, 7.59133315, 7.43215216])"
      ]
     },
     "execution_count": 4,
     "metadata": {},
     "output_type": "execute_result"
    }
   ],
   "source": [
    "subtract"
   ]
  },
  {
   "cell_type": "code",
   "execution_count": 14,
   "metadata": {},
   "outputs": [
    {
     "data": {
      "text/plain": [
       "{'whiskers': [<matplotlib.lines.Line2D at 0x7eff83a431c0>,\n",
       "  <matplotlib.lines.Line2D at 0x7eff83a43520>],\n",
       " 'caps': [<matplotlib.lines.Line2D at 0x7eff83a43880>,\n",
       "  <matplotlib.lines.Line2D at 0x7eff83a43be0>],\n",
       " 'boxes': [<matplotlib.lines.Line2D at 0x7eff83ab5e20>],\n",
       " 'medians': [<matplotlib.lines.Line2D at 0x7eff83a43f40>],\n",
       " 'fliers': [<matplotlib.lines.Line2D at 0x7eff83a4e5e0>],\n",
       " 'means': [<matplotlib.lines.Line2D at 0x7eff83a4e280>]}"
      ]
     },
     "execution_count": 14,
     "metadata": {},
     "output_type": "execute_result"
    },
    {
     "data": {
      "image/png": "[encoded data removed]",
      "text/plain": [
       "<Figure size 432x288 with 1 Axes>"
      ]
     },
     "metadata": {
      "needs_background": "light"
     },
     "output_type": "display_data"
    }
   ],
   "source": [
    "plt.boxplot(subtract, showmeans=True, showfliers= True)"
   ]
  }
 ],
 "metadata": {
  "interpreter": {
   "hash": "aee01410a403627e2a796d4ef2b6a381d6ae753455328eb8ba251e6b798fd083"
  },
  "kernelspec": {
   "display_name": "Python 3.8.3 64-bit ('anaconda3-2020.07': pyenv)",
   "language": "python",
   "name": "python3"
  },
  "language_info": {
   "codemirror_mode": {
    "name": "ipython",
    "version": 3
   },
   "file_extension": ".py",
   "mimetype": "text/x-python",
   "name": "python",
   "nbconvert_exporter": "python",
   "pygments_lexer": "ipython3",
   "version": "3.8.3"
  },
  "orig_nbformat": 4
 },
 "nbformat": 4,
 "nbformat_minor": 2
}
