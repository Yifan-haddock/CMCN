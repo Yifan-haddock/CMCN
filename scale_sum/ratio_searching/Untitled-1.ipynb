{
 "cells": [
  {
   "cell_type": "code",
   "execution_count": 1,
   "metadata": {},
   "outputs": [],
   "source": [
    "import numpy as np\n",
    "import re\n",
    "import matplotlib.pyplot as plt\n",
    "import json\n",
    "import torch\n",
    "from glob import glob\n",
    "import joblib\n",
    "import seaborn as sns"
   ]
  },
  {
   "cell_type": "code",
   "execution_count": 2,
   "metadata": {},
   "outputs": [],
   "source": [
    "files = sorted(glob('weight_training/*'), key = lambda x:(int(x.split('_')[2][1:]), int(x.split('_')[3][5:])))"
   ]
  },
  {
   "cell_type": "code",
   "execution_count": 3,
   "metadata": {},
   "outputs": [
    {
     "data": {
      "text/plain": [
       "['weight_training/biosyn_n100_times1_sparse_weight.bin',\n",
       " 'weight_training/biosyn_n100_times2_sparse_weight.bin',\n",
       " 'weight_training/biosyn_n100_times3_sparse_weight.bin',\n",
       " 'weight_training/biosyn_n100_times4_sparse_weight.bin',\n",
       " 'weight_training/biosyn_n100_times5_sparse_weight.bin',\n",
       " 'weight_training/biosyn_n100_times6_sparse_weight.bin',\n",
       " 'weight_training/biosyn_n100_times7_sparse_weight.bin',\n",
       " 'weight_training/biosyn_n100_times8_sparse_weight.bin',\n",
       " 'weight_training/biosyn_n100_times9_sparse_weight.bin',\n",
       " 'weight_training/biosyn_n100_times10_sparse_weight.bin',\n",
       " 'weight_training/biosyn_n500_times1_sparse_weight.bin',\n",
       " 'weight_training/biosyn_n500_times2_sparse_weight.bin',\n",
       " 'weight_training/biosyn_n500_times3_sparse_weight.bin',\n",
       " 'weight_training/biosyn_n500_times4_sparse_weight.bin',\n",
       " 'weight_training/biosyn_n500_times5_sparse_weight.bin',\n",
       " 'weight_training/biosyn_n500_times6_sparse_weight.bin',\n",
       " 'weight_training/biosyn_n500_times7_sparse_weight.bin',\n",
       " 'weight_training/biosyn_n500_times8_sparse_weight.bin',\n",
       " 'weight_training/biosyn_n500_times9_sparse_weight.bin',\n",
       " 'weight_training/biosyn_n500_times10_sparse_weight.bin',\n",
       " 'weight_training/biosyn_n1000_times1_sparse_weight.bin',\n",
       " 'weight_training/biosyn_n1000_times2_sparse_weight.bin',\n",
       " 'weight_training/biosyn_n1000_times3_sparse_weight.bin',\n",
       " 'weight_training/biosyn_n1000_times4_sparse_weight.bin',\n",
       " 'weight_training/biosyn_n1000_times5_sparse_weight.bin',\n",
       " 'weight_training/biosyn_n1000_times6_sparse_weight.bin',\n",
       " 'weight_training/biosyn_n1000_times7_sparse_weight.bin',\n",
       " 'weight_training/biosyn_n1000_times8_sparse_weight.bin',\n",
       " 'weight_training/biosyn_n1000_times9_sparse_weight.bin',\n",
       " 'weight_training/biosyn_n1000_times10_sparse_weight.bin',\n",
       " 'weight_training/biosyn_n2500_times1_sparse_weight.bin',\n",
       " 'weight_training/biosyn_n2500_times2_sparse_weight.bin',\n",
       " 'weight_training/biosyn_n2500_times3_sparse_weight.bin',\n",
       " 'weight_training/biosyn_n2500_times4_sparse_weight.bin',\n",
       " 'weight_training/biosyn_n2500_times5_sparse_weight.bin',\n",
       " 'weight_training/biosyn_n2500_times6_sparse_weight.bin',\n",
       " 'weight_training/biosyn_n2500_times7_sparse_weight.bin',\n",
       " 'weight_training/biosyn_n2500_times8_sparse_weight.bin',\n",
       " 'weight_training/biosyn_n2500_times9_sparse_weight.bin',\n",
       " 'weight_training/biosyn_n2500_times10_sparse_weight.bin',\n",
       " 'weight_training/biosyn_n5000_times1_sparse_weight.bin',\n",
       " 'weight_training/biosyn_n5000_times2_sparse_weight.bin',\n",
       " 'weight_training/biosyn_n5000_times3_sparse_weight.bin',\n",
       " 'weight_training/biosyn_n5000_times4_sparse_weight.bin',\n",
       " 'weight_training/biosyn_n5000_times5_sparse_weight.bin',\n",
       " 'weight_training/biosyn_n5000_times6_sparse_weight.bin',\n",
       " 'weight_training/biosyn_n5000_times7_sparse_weight.bin',\n",
       " 'weight_training/biosyn_n5000_times8_sparse_weight.bin',\n",
       " 'weight_training/biosyn_n5000_times9_sparse_weight.bin',\n",
       " 'weight_training/biosyn_n5000_times10_sparse_weight.bin',\n",
       " 'weight_training/biosyn_n10000_times1_sparse_weight.bin',\n",
       " 'weight_training/biosyn_n10000_times2_sparse_weight.bin',\n",
       " 'weight_training/biosyn_n10000_times3_sparse_weight.bin',\n",
       " 'weight_training/biosyn_n10000_times4_sparse_weight.bin',\n",
       " 'weight_training/biosyn_n10000_times5_sparse_weight.bin',\n",
       " 'weight_training/biosyn_n10000_times6_sparse_weight.bin',\n",
       " 'weight_training/biosyn_n10000_times7_sparse_weight.bin',\n",
       " 'weight_training/biosyn_n10000_times8_sparse_weight.bin',\n",
       " 'weight_training/biosyn_n10000_times9_sparse_weight.bin',\n",
       " 'weight_training/biosyn_n10000_times10_sparse_weight.bin',\n",
       " 'weight_training/biosyn_n15000_times1_sparse_weight.bin',\n",
       " 'weight_training/biosyn_n15000_times2_sparse_weight.bin',\n",
       " 'weight_training/biosyn_n15000_times3_sparse_weight.bin',\n",
       " 'weight_training/biosyn_n15000_times4_sparse_weight.bin',\n",
       " 'weight_training/biosyn_n15000_times5_sparse_weight.bin',\n",
       " 'weight_training/biosyn_n15000_times6_sparse_weight.bin',\n",
       " 'weight_training/biosyn_n15000_times7_sparse_weight.bin',\n",
       " 'weight_training/biosyn_n15000_times8_sparse_weight.bin',\n",
       " 'weight_training/biosyn_n15000_times9_sparse_weight.bin',\n",
       " 'weight_training/biosyn_n15000_times10_sparse_weight.bin',\n",
       " 'weight_training/biosyn_n20000_times1_sparse_weight.bin',\n",
       " 'weight_training/biosyn_n20000_times2_sparse_weight.bin',\n",
       " 'weight_training/biosyn_n20000_times3_sparse_weight.bin',\n",
       " 'weight_training/biosyn_n20000_times4_sparse_weight.bin',\n",
       " 'weight_training/biosyn_n20000_times5_sparse_weight.bin',\n",
       " 'weight_training/biosyn_n20000_times6_sparse_weight.bin',\n",
       " 'weight_training/biosyn_n20000_times7_sparse_weight.bin',\n",
       " 'weight_training/biosyn_n20000_times8_sparse_weight.bin',\n",
       " 'weight_training/biosyn_n20000_times9_sparse_weight.bin',\n",
       " 'weight_training/biosyn_n20000_times10_sparse_weight.bin']"
      ]
     },
     "execution_count": 3,
     "metadata": {},
     "output_type": "execute_result"
    }
   ],
   "source": [
    "files"
   ]
  },
  {
   "cell_type": "code",
   "execution_count": 4,
   "metadata": {},
   "outputs": [],
   "source": [
    "dense_weight = []\n",
    "sparse_weight = []\n",
    "for file in files:\n",
    "    with open(file,'rb') as f:\n",
    "        weights = joblib.load(f)\n",
    "        dense_weight.append(weights[0].detach().numpy())\n",
    "        sparse_weight.append(weights[1].detach().numpy())"
   ]
  },
  {
   "cell_type": "code",
   "execution_count": 5,
   "metadata": {},
   "outputs": [],
   "source": [
    "dense_weights = np.concatenate(dense_weight, axis = 0).reshape(-1,10)\n",
    "sparse_weights = np.concatenate(sparse_weight, axis = 0).reshape(-1,10)"
   ]
  },
  {
   "cell_type": "code",
   "execution_count": 6,
   "metadata": {},
   "outputs": [],
   "source": [
    "ratio = dense_weights/sparse_weights"
   ]
  },
  {
   "cell_type": "code",
   "execution_count": 7,
   "metadata": {},
   "outputs": [
    {
     "data": {
      "text/plain": [
       "array([[13.293164 , 11.082902 ,  9.714401 , 15.614269 ,  8.324339 ,\n",
       "        12.900743 , 11.505626 ,  5.1327252, 15.928566 ,  5.788447 ],\n",
       "       [15.025168 , 23.307962 , 10.543545 , 13.133268 , 13.197463 ,\n",
       "        10.104706 , 11.426196 , 10.124327 , 18.574203 , 12.909267 ],\n",
       "       [13.740426 , 12.394038 , 12.080829 , 11.098548 , 10.575016 ,\n",
       "        24.455915 , 13.159189 , 13.332845 , 12.270542 , 11.416574 ],\n",
       "       [10.434193 , 12.839762 , 11.871126 , 13.627063 , 12.355004 ,\n",
       "        11.849125 , 11.198731 , 12.671466 , 15.80425  , 11.021307 ],\n",
       "       [15.045023 , 13.15717  , 11.716404 , 11.509632 , 11.48448  ,\n",
       "        10.631667 , 11.9564085, 12.290367 , 11.934143 , 11.144731 ],\n",
       "       [11.181306 , 11.777225 , 11.752495 , 12.344324 , 12.924376 ,\n",
       "        12.764983 , 11.089009 , 12.159709 , 11.695859 , 12.416675 ],\n",
       "       [12.171627 , 12.414351 , 12.985232 , 11.877424 , 13.287595 ,\n",
       "        12.136361 , 13.050146 , 12.682564 , 11.049591 , 12.013297 ],\n",
       "       [12.647749 , 11.837002 , 11.914479 , 11.850024 , 12.060753 ,\n",
       "        11.3452425, 12.291997 , 12.680974 , 12.244632 , 12.73231  ]],\n",
       "      dtype=float32)"
      ]
     },
     "execution_count": 7,
     "metadata": {},
     "output_type": "execute_result"
    }
   ],
   "source": [
    "ratio"
   ]
  },
  {
   "cell_type": "code",
   "execution_count": 8,
   "metadata": {},
   "outputs": [],
   "source": [
    "x_data = ['100','500','1000','2500','5000','10000','15000','20000']\n",
    "y_data = ratio.mean(axis=1)\n",
    "y_data_err = ratio.std(axis = 1)"
   ]
  },
  {
   "cell_type": "code",
   "execution_count": 13,
   "metadata": {},
   "outputs": [
    {
     "data": {
      "image/png": "[encoded data removed]",
      "text/plain": [
       "<Figure size 1512x648 with 1 Axes>"
      ]
     },
     "metadata": {},
     "output_type": "display_data"
    }
   ],
   "source": [
    "fig, ax = plt.subplots()\n",
    "sns.set(rc={\"figure.figsize\": (21, 9)})\n",
    "sns.set_style(\"ticks\")\n",
    "ratio_plt = ax.errorbar(x_data, y_data, yerr = y_data_err)\n",
    "ax.yaxis.grid()\n",
    "ax.set_ylim(0,25)\n",
    "plt.xticks(fontsize=15)\n",
    "plt.yticks(fontsize=15)\n",
    "ax.set_ylabel('Ratio',size = 15)\n",
    "ax.set_xlabel('Number of samples',size = 15)\n",
    "ax.yaxis.set_label_coords(-0.06, 0.5)\n",
    "ax.xaxis.set_label_coords(0.5, -0.08)\n",
    "ax.yaxis.set_major_locator(plt.MaxNLocator(5))"
   ]
  },
  {
   "cell_type": "code",
   "execution_count": 10,
   "metadata": {},
   "outputs": [],
   "source": [
    "import torch"
   ]
  },
  {
   "cell_type": "code",
   "execution_count": 11,
   "metadata": {},
   "outputs": [],
   "source": [
    "a = torch.tensor([\n",
    "    [1,2,3],\n",
    "    [2,3,4],\n",
    "    [4,5,6]\n",
    "])"
   ]
  },
  {
   "cell_type": "code",
   "execution_count": 12,
   "metadata": {},
   "outputs": [
    {
     "data": {
      "text/plain": [
       "tensor([[4, 5, 6],\n",
       "        [1, 2, 3]])"
      ]
     },
     "execution_count": 12,
     "metadata": {},
     "output_type": "execute_result"
    }
   ],
   "source": [
    "a[torch.randint(3,(2,))]"
   ]
  }
 ],
 "metadata": {
  "interpreter": {
   "hash": "aee01410a403627e2a796d4ef2b6a381d6ae753455328eb8ba251e6b798fd083"
  },
  "kernelspec": {
   "display_name": "Python 3.8.3 64-bit ('anaconda3-2020.07': pyenv)",
   "language": "python",
   "name": "python3"
  },
  "language_info": {
   "codemirror_mode": {
    "name": "ipython",
    "version": 3
   },
   "file_extension": ".py",
   "mimetype": "text/x-python",
   "name": "python",
   "nbconvert_exporter": "python",
   "pygments_lexer": "ipython3",
   "version": "3.8.3"
  },
  "orig_nbformat": 4
 },
 "nbformat": 4,
 "nbformat_minor": 2
}
