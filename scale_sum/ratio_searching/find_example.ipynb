{
 "cells": [
  {
   "cell_type": "code",
   "execution_count": 1,
   "metadata": {},
   "outputs": [],
   "source": [
    "import numpy as np\n",
    "import re\n",
    "import matplotlib.pyplot as plt\n",
    "import json\n",
    "import torch\n",
    "from glob import glob\n",
    "import joblib"
   ]
  },
  {
   "cell_type": "code",
   "execution_count": 2,
   "metadata": {},
   "outputs": [],
   "source": [
    "with open('sapbert_realworld_query_disorder_dictionary_train_sample.joblib','rb') as f:\n",
    "    examples = joblib.load(f)"
   ]
  },
  {
   "cell_type": "code",
   "execution_count": 3,
   "metadata": {},
   "outputs": [
    {
     "data": {
      "text/plain": [
       "{'bert_scores': array([[0.9451458 , 0.8970205 , 0.8864256 , ..., 0.62317204, 0.62799275,\n",
       "         0.6276599 ],\n",
       "        [0.9590518 , 0.84088343, 0.84088343, ..., 0.63219684, 0.6864622 ,\n",
       "         0.65143645],\n",
       "        [0.7883313 , 0.6951481 , 0.73269284, ..., 0.541426  , 0.49998495,\n",
       "         0.59142935],\n",
       "        ...,\n",
       "        [0.9761207 , 0.9761207 , 0.9163105 , ..., 0.61003965, 0.6346197 ,\n",
       "         0.72844625],\n",
       "        [0.9761207 , 0.9761207 , 0.9163105 , ..., 0.61003965, 0.6346197 ,\n",
       "         0.72844625],\n",
       "        [0.8776015 , 0.8675206 , 0.8781469 , ..., 0.43819618, 0.7214521 ,\n",
       "         0.5347308 ]], dtype=float32),\n",
       " 'tfidf_scores': array([[1.        , 0.7902636 , 0.73100334, ..., 0.67181027, 0.6668929 ,\n",
       "         0.6668759 ],\n",
       "        [0.99999994, 0.8560939 , 0.8560939 , ..., 0.59484506, 0.55367774,\n",
       "         0.5791974 ],\n",
       "        [0.99999994, 0.72855693, 0.6657244 , ..., 0.5043329 , 0.5336086 ,\n",
       "         0.4656416 ],\n",
       "        ...,\n",
       "        [0.99999994, 0.99999994, 0.88607764, ..., 0.6036277 , 0.5846808 ,\n",
       "         0.5125302 ],\n",
       "        [0.99999994, 0.99999994, 0.88607764, ..., 0.6036277 , 0.5846808 ,\n",
       "         0.5125302 ],\n",
       "        [0.6375844 , 0.6182423 , 0.56813514, ..., 0.5444084 , 0.33012113,\n",
       "         0.47065517]], dtype=float32),\n",
       " 'labels': array([[1, 0, 0, ..., 0, 0, 0],\n",
       "        [1, 0, 0, ..., 0, 0, 0],\n",
       "        [0, 0, 0, ..., 0, 0, 0],\n",
       "        ...,\n",
       "        [1, 0, 1, ..., 0, 0, 0],\n",
       "        [1, 0, 1, ..., 0, 0, 0],\n",
       "        [0, 0, 0, ..., 0, 0, 0]])}"
      ]
     },
     "execution_count": 3,
     "metadata": {},
     "output_type": "execute_result"
    }
   ],
   "source": [
    "examples"
   ]
  }
 ],
 "metadata": {
  "interpreter": {
   "hash": "aee01410a403627e2a796d4ef2b6a381d6ae753455328eb8ba251e6b798fd083"
  },
  "kernelspec": {
   "display_name": "Python 3.8.3 64-bit ('base')",
   "language": "python",
   "name": "python3"
  },
  "language_info": {
   "codemirror_mode": {
    "name": "ipython",
    "version": 3
   },
   "file_extension": ".py",
   "mimetype": "text/x-python",
   "name": "python",
   "nbconvert_exporter": "python",
   "pygments_lexer": "ipython3",
   "version": "3.8.3"
  },
  "orig_nbformat": 4
 },
 "nbformat": 4,
 "nbformat_minor": 2
}
