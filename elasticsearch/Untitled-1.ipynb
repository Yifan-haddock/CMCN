{
 "cells": [
  {
   "cell_type": "code",
   "execution_count": 1,
   "metadata": {},
   "outputs": [],
   "source": [
    "from umls_search import search_umls"
   ]
  },
  {
   "cell_type": "code",
   "execution_count": 2,
   "metadata": {},
   "outputs": [],
   "source": [
    "def es_recommend(term,index='disorder',topk=10):\n",
    "    recom_list = search_umls(term, index)[:10]\n",
    "    candidates_cui = [i['_source']['cui'] for i in recom_list]\n",
    "    candidates_str = [i['_source']['str'] for i in recom_list]\n",
    "    scores = [i['_score'] for i in recom_list]\n",
    "    return candidates_cui,scores,candidates_str"
   ]
  },
  {
   "cell_type": "code",
   "execution_count": 4,
   "metadata": {},
   "outputs": [
    {
     "data": {
      "text/plain": [
       "(['C0268799',\n",
       "  'C0268799',\n",
       "  'C0268799',\n",
       "  'C0268799',\n",
       "  'C0268799',\n",
       "  'C0268799',\n",
       "  'C0268799',\n",
       "  'C0022680',\n",
       "  'C0022680',\n",
       "  'C0268799'],\n",
       " [12.4706955,\n",
       "  12.4706955,\n",
       "  12.4706955,\n",
       "  12.4706955,\n",
       "  12.4706955,\n",
       "  12.4706955,\n",
       "  12.4706955,\n",
       "  12.4706955,\n",
       "  12.4706955,\n",
       "  11.257683],\n",
       " ['kidney cyst acquired',\n",
       "  'Kidney cyst - acquired',\n",
       "  'Kidney cyst (& [acquired])',\n",
       "  'Kidney cyst (& [acquired])',\n",
       "  'cyst; kidney, acquired',\n",
       "  'Kidney cyst (& [acquired])',\n",
       "  'Kidney cyst (& [acquired])',\n",
       "  'kidney; cyst, multiple',\n",
       "  'cyst; kidney, multiple',\n",
       "  'Cyst of kidney, acquired'])"
      ]
     },
     "execution_count": 4,
     "metadata": {},
     "output_type": "execute_result"
    }
   ],
   "source": [
    "es_recommend('cyst kidney')"
   ]
  }
 ],
 "metadata": {
  "interpreter": {
   "hash": "aee01410a403627e2a796d4ef2b6a381d6ae753455328eb8ba251e6b798fd083"
  },
  "kernelspec": {
   "display_name": "Python 3.8.3 64-bit ('anaconda3-2020.07': pyenv)",
   "language": "python",
   "name": "python3"
  },
  "language_info": {
   "codemirror_mode": {
    "name": "ipython",
    "version": 3
   },
   "file_extension": ".py",
   "mimetype": "text/x-python",
   "name": "python",
   "nbconvert_exporter": "python",
   "pygments_lexer": "ipython3",
   "version": "3.8.3"
  },
  "orig_nbformat": 4
 },
 "nbformat": 4,
 "nbformat_minor": 2
}
