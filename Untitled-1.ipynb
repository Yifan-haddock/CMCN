{
 "cells": [
  {
   "cell_type": "code",
   "execution_count": 1,
   "metadata": {},
   "outputs": [],
   "source": [
    "import glob\n",
    "import pandas as pd"
   ]
  },
  {
   "cell_type": "code",
   "execution_count": 2,
   "metadata": {},
   "outputs": [],
   "source": [
    "files = glob.glob('./*/*realworld*.csv')"
   ]
  },
  {
   "cell_type": "code",
   "execution_count": 3,
   "metadata": {},
   "outputs": [
    {
     "data": {
      "text/plain": [
       "['./elasticsearch/elasticsearch_realworld_query_disorder_dictionary_acctable.csv',\n",
       " './metamap/metamap_realworld_query_disorder_dictionary_acctable.csv',\n",
       " './tfidf/tfidf_realworld_query_disorder_dictionary_ngram12_acctable.csv',\n",
       " './tfidf/tfidf_realworld_query_disorder_dictionary_ngram13_acctable.csv',\n",
       " './bert/biosyn_cos_realworld_query_disorder_dictionary_acctable.csv',\n",
       " './bert/biosyn_inner_realworld_query_disorder_dictionary_acctable.csv',\n",
       " './bert/biobert_cos_realworld_query_disorder_dictionary_acctable.csv',\n",
       " './bert/biobert_inner_realworld_query_disorder_dictionary_acctable.csv',\n",
       " './bert/sapbert_cos_realworld_query_disorder_dictionary_acctable.csv',\n",
       " './bert/sapbert_inner_realworld_query_disorder_dictionary_acctable.csv',\n",
       " './bert/multilingual_cos_cn_realworld_query_disorder_dictionary_acctable.csv',\n",
       " './bert/multilingual_inner_cn_realworld_query_disorder_dictionary_acctable.csv',\n",
       " './scale_sum/sapbert_weighted_sum_realworld_query_disorder_dictionary_acctable.csv',\n",
       " './scale_sum/sapbert_min_max_realworld_query_disorder_dictionary_acctable.csv',\n",
       " './scale_sum/sapbert_zscore_realworld_query_disorder_dictionary_acctable.csv',\n",
       " './scale_sum/sapbert_tanh_realworld_query_disorder_dictionary_acctable.csv',\n",
       " './scale_sum/biosyn_weighted_sum_realworld_query_disorder_dictionary_acctable.csv',\n",
       " './scale_sum/biosyn_min_max_realworld_query_disorder_dictionary_acctable.csv',\n",
       " './scale_sum/biosyn_zscore_realworld_query_disorder_dictionary_acctable.csv',\n",
       " './scale_sum/biosyn_tanh_realworld_query_disorder_dictionary_acctable.csv',\n",
       " './scale_sum/biobert_weighted_sum_realworld_query_disorder_dictionary_acctable.csv',\n",
       " './scale_sum/biobert_min_max_realworld_query_disorder_dictionary_acctable.csv',\n",
       " './scale_sum/biobert_zscore_realworld_query_disorder_dictionary_acctable.csv',\n",
       " './scale_sum/biobert_tanh_realworld_query_disorder_dictionary_acctable.csv']"
      ]
     },
     "execution_count": 3,
     "metadata": {},
     "output_type": "execute_result"
    }
   ],
   "source": [
    "files"
   ]
  },
  {
   "cell_type": "code",
   "execution_count": 4,
   "metadata": {},
   "outputs": [],
   "source": [
    "df = pd.DataFrame()"
   ]
  },
  {
   "cell_type": "code",
   "execution_count": 5,
   "metadata": {},
   "outputs": [],
   "source": [
    "for file in files:\n",
    "    df = df.append(pd.read_csv(file))"
   ]
  },
  {
   "cell_type": "code",
   "execution_count": 6,
   "metadata": {},
   "outputs": [
    {
     "data": {
      "text/plain": [
       "method    sapbert_zscore_realworld_query_disorder_dictio...\n",
       "acc@1                                                  65.4\n",
       "acc@5                                                 77.94\n",
       "acc@10                                                81.76\n",
       "dtype: object"
      ]
     },
     "execution_count": 6,
     "metadata": {},
     "output_type": "execute_result"
    }
   ],
   "source": [
    "df.max()"
   ]
  },
  {
   "cell_type": "code",
   "execution_count": 8,
   "metadata": {},
   "outputs": [],
   "source": [
    "df.to_excel('real_world_acc_table_scale.xlsx',index = False)"
   ]
  },
  {
   "cell_type": "code",
   "execution_count": 9,
   "metadata": {},
   "outputs": [],
   "source": [
    "import joblib"
   ]
  }
 ],
 "metadata": {
  "interpreter": {
   "hash": "aee01410a403627e2a796d4ef2b6a381d6ae753455328eb8ba251e6b798fd083"
  },
  "kernelspec": {
   "display_name": "Python 3.8.3 64-bit ('anaconda3-2020.07': pyenv)",
   "language": "python",
   "name": "python3"
  },
  "language_info": {
   "codemirror_mode": {
    "name": "ipython",
    "version": 3
   },
   "file_extension": ".py",
   "mimetype": "text/x-python",
   "name": "python",
   "nbconvert_exporter": "python",
   "pygments_lexer": "ipython3",
   "version": "3.8.3"
  },
  "orig_nbformat": 4
 },
 "nbformat": 4,
 "nbformat_minor": 2
}
