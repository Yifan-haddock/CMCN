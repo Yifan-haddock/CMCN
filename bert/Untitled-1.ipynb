{
 "cells": [
  {
   "cell_type": "code",
   "execution_count": 1,
   "metadata": {},
   "outputs": [],
   "source": [
    "import numpy as np\n",
    "import json\n",
    "import joblib\n",
    "from umls_search import search_umls\n",
    "import re\n",
    "import pandas as pd\n",
    "from tqdm import tqdm\n",
    "import matplotlib.pyplot as plt"
   ]
  },
  {
   "cell_type": "code",
   "execution_count": 2,
   "metadata": {},
   "outputs": [],
   "source": [
    "def es_recommend(cui,index='disorder',topk=100):\n",
    "    recom_list = search_umls(cui, index)[:topk]\n",
    "    # candidates_cui = [i['_source']['cui'] for i in recom_list]\n",
    "    candidates_str = [\n",
    "        re.sub(r\"-\\s\",'',\n",
    "            re.sub(r'[,\\'\\\"]','',\n",
    "            re.sub(r\"\\[.*\\]\",\"\",\n",
    "            re.sub(r'\\s\\(.*\\)','',i['_source']['str'].lower())\n",
    "            ))) for i in recom_list\n",
    "        ]\n",
    "    # scores = [i['_score'] for i in recom_list]\n",
    "    return candidates_str"
   ]
  },
  {
   "cell_type": "code",
   "execution_count": 5,
   "metadata": {},
   "outputs": [],
   "source": [
    "import joblib \n",
    "with open('candidates_cui_biosyn_cos_realworld_query_disorder_dictionary.joblib','rb') as f:\n",
    "    candidates = joblib.load(f)"
   ]
  },
  {
   "cell_type": "code",
   "execution_count": 6,
   "metadata": {},
   "outputs": [
    {
     "data": {
      "text/plain": [
       "dict_keys(['labels', 'candidates'])"
      ]
     },
     "execution_count": 6,
     "metadata": {},
     "output_type": "execute_result"
    }
   ],
   "source": [
    "candidates.keys()"
   ]
  },
  {
   "cell_type": "code",
   "execution_count": 7,
   "metadata": {},
   "outputs": [],
   "source": [
    "wrong = []\n",
    "wrong2 = []"
   ]
  },
  {
   "cell_type": "code",
   "execution_count": 8,
   "metadata": {},
   "outputs": [],
   "source": [
    "for i in range(2824):\n",
    "    if candidates['labels'][i].sum()==0:\n",
    "        wrong.append((i, candidates['candidates'][i].tolist()))"
   ]
  },
  {
   "cell_type": "code",
   "execution_count": 9,
   "metadata": {},
   "outputs": [],
   "source": [
    "import json \n",
    "with open('realworld_wrong.json','w') as f:\n",
    "    f.write(json.dumps(wrong, ensure_ascii=False))"
   ]
  },
  {
   "cell_type": "code",
   "execution_count": 10,
   "metadata": {},
   "outputs": [],
   "source": [
    "with open('realworld_wrong.json','r') as f:\n",
    "    wrong = json.load(f)"
   ]
  },
  {
   "cell_type": "code",
   "execution_count": 11,
   "metadata": {},
   "outputs": [],
   "source": [
    "wrong_index = [i[0] for i in wrong]\n",
    "candidates = [list(dict.fromkeys(i[1])) for i in wrong]"
   ]
  },
  {
   "cell_type": "code",
   "execution_count": 12,
   "metadata": {},
   "outputs": [],
   "source": [
    "data = pd.read_csv('../data/query/realworld_query copy.csv')"
   ]
  },
  {
   "cell_type": "code",
   "execution_count": 13,
   "metadata": {},
   "outputs": [
    {
     "name": "stderr",
     "output_type": "stream",
     "text": [
      "100%|██████████| 935/935 [00:16<00:00, 56.29it/s]\n"
     ]
    }
   ],
   "source": [
    "candidates_strings = []\n",
    "for candidate in tqdm(candidates,total = len(wrong_index)):\n",
    "    for c in candidate:\n",
    "        candidates_strings.extend(es_recommend(c))"
   ]
  },
  {
   "cell_type": "code",
   "execution_count": 14,
   "metadata": {},
   "outputs": [
    {
     "name": "stderr",
     "output_type": "stream",
     "text": [
      "100%|██████████| 935/935 [00:16<00:00, 57.97it/s]\n"
     ]
    }
   ],
   "source": [
    "en_diffs = []\n",
    "correct_cuis = []\n",
    "corrected_index = []\n",
    "corrected_candidates = []\n",
    "for i,candidate in tqdm(zip(wrong_index,candidates),total = len(wrong_index)):\n",
    "    baidu = set(data.iloc[i,][\"baidu\"].lower().split(' '))\n",
    "    youdao = set(data.iloc[i,][\"youdao\"].lower().split(' '))\n",
    "    tencent = set(data.iloc[i,][\"tencent\"].lower().split(' '))\n",
    "    en = set(data.iloc[i,][\"en\"].lower().split(' '))\n",
    "    en_diff = min([\n",
    "        len(baidu.symmetric_difference(en)),\n",
    "        len(youdao.symmetric_difference(en)),\n",
    "        len(tencent.symmetric_difference(en)),\n",
    "    ])\n",
    "    en_diffs.append(en_diff)\n",
    "    for c in candidate:\n",
    "        c_strings = [set(i.split(' ')) for i in es_recommend(c)]\n",
    "        baidu_diff = [len(baidu.symmetric_difference(c_string)) for c_string in c_strings]\n",
    "        youdao_diff = [len(youdao.symmetric_difference(c_string)) for c_string in c_strings]\n",
    "        tencent_diff = [len(tencent.symmetric_difference(c_string)) for c_string in c_strings]    \n",
    "        all_diff = [10]\n",
    "        all_diff.extend(baidu_diff)\n",
    "        all_diff.extend(youdao_diff)\n",
    "        all_diff.extend(tencent_diff)\n",
    "        if min(all_diff)<1:\n",
    "            data.loc[i,\"cui\"] = c\n",
    "            corrected_index.append(i)\n",
    "            corrected_candidates.append(candidate)\n",
    "            break"
   ]
  },
  {
   "cell_type": "code",
   "execution_count": 15,
   "metadata": {},
   "outputs": [],
   "source": [
    "for i in corrected_index:\n",
    "    wrong_index.remove(i)\n",
    "for i in corrected_candidates:\n",
    "    candidates.remove(i)"
   ]
  },
  {
   "cell_type": "code",
   "execution_count": 16,
   "metadata": {},
   "outputs": [
    {
     "data": {
      "text/plain": [
       "(846, 846)"
      ]
     },
     "execution_count": 16,
     "metadata": {},
     "output_type": "execute_result"
    }
   ],
   "source": [
    "len(wrong_index),len(candidates)"
   ]
  },
  {
   "cell_type": "code",
   "execution_count": 20,
   "metadata": {},
   "outputs": [],
   "source": [
    "dictionary = pd.read_csv('../data/dictionary/disorder_dictionary.csv')"
   ]
  },
  {
   "cell_type": "code",
   "execution_count": 23,
   "metadata": {},
   "outputs": [
    {
     "data": {
      "text/plain": [
       "1025439                              sprain\n",
       "1025440                          sprain nos\n",
       "1025441                             sprains\n",
       "1025442    sprain (morphologic abnormality)\n",
       "1025443                         sprain, nos\n",
       "Name: terms, dtype: object"
      ]
     },
     "execution_count": 23,
     "metadata": {},
     "output_type": "execute_result"
    }
   ],
   "source": [
    "dictionary.loc[dictionary['cui']=='C0038045']['terms']"
   ]
  },
  {
   "cell_type": "code",
   "execution_count": 27,
   "metadata": {},
   "outputs": [],
   "source": [
    "candidates_strings = []\n",
    "for candidate in candidates:\n",
    "    candidate_strings = []\n",
    "    for c in candidate:\n",
    "        candidate_strings.append(list(dictionary.loc[dictionary['cui']==c]['terms']))\n",
    "    candidates_strings.append(candidate_strings)"
   ]
  },
  {
   "cell_type": "code",
   "execution_count": 28,
   "metadata": {},
   "outputs": [],
   "source": [
    "real_world_wrong_candidates = [(a,b,c) for a,b,c in zip(wrong_index,candidates,candidates_strings)]"
   ]
  },
  {
   "cell_type": "code",
   "execution_count": 29,
   "metadata": {},
   "outputs": [],
   "source": [
    "with open('real_world_wrong_candidates.json','w') as f:\n",
    "    f.write(json.dumps(real_world_wrong_candidates, ensure_ascii=False))"
   ]
  },
  {
   "cell_type": "code",
   "execution_count": 63,
   "metadata": {},
   "outputs": [],
   "source": [
    "del data['Unnamed: 0.1']"
   ]
  },
  {
   "cell_type": "code",
   "execution_count": 64,
   "metadata": {},
   "outputs": [],
   "source": [
    "data.to_csv('../data/query/realworld_query_copy.csv',index =True)"
   ]
  },
  {
   "cell_type": "code",
   "execution_count": 4,
   "metadata": {},
   "outputs": [],
   "source": [
    "import glob\n",
    "import pandas as pd"
   ]
  },
  {
   "cell_type": "code",
   "execution_count": 5,
   "metadata": {},
   "outputs": [],
   "source": [
    "files = glob.glob('bert*.csv')\n",
    "df = []\n",
    "for file in files:\n",
    "    df.append(pd.read_csv(file))"
   ]
  },
  {
   "cell_type": "code",
   "execution_count": 10,
   "metadata": {},
   "outputs": [],
   "source": [
    "df_bert = pd.concat(df,axis=0)"
   ]
  },
  {
   "cell_type": "code",
   "execution_count": null,
   "metadata": {},
   "outputs": [],
   "source": [
    "df_bert.to_csv('../bert_acc.csv',index = False)"
   ]
  },
  {
   "cell_type": "code",
   "execution_count": 2,
   "metadata": {},
   "outputs": [],
   "source": [
    "import pandas as pd\n",
    "import numpy as np\n",
    "import joblib\n",
    "import argparse\n",
    "from bert_recom import Bert_Re\n",
    "from ast import literal_eval\n",
    "bert_recommend = Bert_Re(use_cuda=\"True\", load_pretrained=\"False\", checkpoint = \"coder\")"
   ]
  },
  {
   "cell_type": "code",
   "execution_count": 3,
   "metadata": {},
   "outputs": [],
   "source": [
    "dictionary = pd.read_csv('../data/dictionary/umls_dictionary.csv',dtype = str)"
   ]
  },
  {
   "cell_type": "code",
   "execution_count": 4,
   "metadata": {},
   "outputs": [
    {
     "ename": "",
     "evalue": "",
     "output_type": "error",
     "traceback": [
      "\u001b[1;31mCanceled future for execute_request message before replies were done"
     ]
    },
    {
     "ename": "",
     "evalue": "",
     "output_type": "error",
     "traceback": [
      "\u001b[1;31mThe Kernel crashed while executing code in the the current cell or a previous cell. Please review the code in the cell(s) to identify a possible cause of the failure. Click <a href='https://aka.ms/vscodeJupyterKernelCrash'>here</a> for more info. View Jupyter <a href='command:jupyter.viewOutput'>log</a> for further details."
     ]
    }
   ],
   "source": [
    "dictionary_token = bert_recommend.tokenize(list(str(i) for i in dictionary[\"terms\"]))"
   ]
  }
 ],
 "metadata": {
  "interpreter": {
   "hash": "aee01410a403627e2a796d4ef2b6a381d6ae753455328eb8ba251e6b798fd083"
  },
  "kernelspec": {
   "display_name": "Python 3.8.3 64-bit ('anaconda3-2020.07': pyenv)",
   "language": "python",
   "name": "python3"
  },
  "language_info": {
   "codemirror_mode": {
    "name": "ipython",
    "version": 3
   },
   "file_extension": ".py",
   "mimetype": "text/x-python",
   "name": "python",
   "nbconvert_exporter": "python",
   "pygments_lexer": "ipython3",
   "version": "3.8.3"
  },
  "orig_nbformat": 4
 },
 "nbformat": 4,
 "nbformat_minor": 2
}
