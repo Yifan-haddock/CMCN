{
 "cells": [
  {
   "cell_type": "code",
   "execution_count": 1,
   "metadata": {},
   "outputs": [],
   "source": [
    "import glob \n",
    "import pandas as pd"
   ]
  },
  {
   "cell_type": "code",
   "execution_count": 30,
   "metadata": {},
   "outputs": [
    {
     "data": {
      "text/plain": [
       "['coder_cos_cn_chpo_query_disorder_dictionary_acctable.csv',\n",
       " 'coder_cos_cn_realworld_query_disorder_dictionary_acctable.csv',\n",
       " 'coder_cos_cn_icd10_query_disorder_dictionary_acctable.csv',\n",
       " 'multilingual_cos_cn_chpo_query_disorder_dictionary_acctable.csv',\n",
       " 'multilingual_cos_cn_icd10_query_disorder_dictionary_acctable.csv',\n",
       " 'multilingual_cos_cn_realworld_query_disorder_dictionary_acctable.csv',\n",
       " 'roberta_cos_cn_chpo_query_disorder_dictionary_acctable.csv',\n",
       " 'roberta_cos_cn_icd10_query_disorder_dictionary_acctable.csv',\n",
       " 'roberta_cos_cn_realworld_query_disorder_dictionary_acctable.csv',\n",
       " 'sapbert_cos_cn_chpo_query_disorder_dictionary_acctable.csv',\n",
       " 'sapbert_cos_cn_icd10_query_disorder_dictionary_acctable.csv',\n",
       " 'sapbert_cos_cn_realworld_query_disorder_dictionary_acctable.csv']"
      ]
     },
     "execution_count": 30,
     "metadata": {},
     "output_type": "execute_result"
    }
   ],
   "source": [
    "files = glob.glob('*_cos_cn_*_disorder_*')\n",
    "files = [file for file in sorted(files, key = lambda x: x[0]) if 'chip' not in file and 'biosyn' not in file]\n",
    "files"
   ]
  },
  {
   "cell_type": "code",
   "execution_count": 33,
   "metadata": {},
   "outputs": [],
   "source": [
    "df = pd.DataFrame()\n",
    "for file in files:\n",
    "    df = pd.concat([df, pd.read_csv(file)],axis=0).reset_index(drop= True)"
   ]
  },
  {
   "cell_type": "code",
   "execution_count": 35,
   "metadata": {},
   "outputs": [],
   "source": [
    "df =pd.concat([df, pd.read_csv('xlm_umlsboost_sapbert_acc.csv')],axis=0).reset_index(drop= True) \n",
    "df.to_csv('xml_umlsboost_sapbert_comparingtest.csv',index =False)"
   ]
  }
 ],
 "metadata": {
  "kernelspec": {
   "display_name": "Python 3.8.3 64-bit ('base')",
   "language": "python",
   "name": "python3"
  },
  "language_info": {
   "codemirror_mode": {
    "name": "ipython",
    "version": 3
   },
   "file_extension": ".py",
   "mimetype": "text/x-python",
   "name": "python",
   "nbconvert_exporter": "python",
   "pygments_lexer": "ipython3",
   "version": "3.8.3"
  },
  "orig_nbformat": 4,
  "vscode": {
   "interpreter": {
    "hash": "aee01410a403627e2a796d4ef2b6a381d6ae753455328eb8ba251e6b798fd083"
   }
  }
 },
 "nbformat": 4,
 "nbformat_minor": 2
}
